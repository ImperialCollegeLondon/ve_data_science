{
 "cells": [
  {
   "cell_type": "markdown",
   "id": "62b21ad6-998f-4119-a8ef-2b7d1a41d8ff",
   "metadata": {},
   "source": [
    "---\n",
    "# Title: Descriptive name of the script\n",
    "\n",
    "### Description: |\n",
    "    Brief description of what the script does, its main purpose, and any important\n",
    "    scientific context. Keep it concise but informative.\n",
    "\n",
    "    This can include multiple paragraphs.\n",
    "\n",
    "### author\n",
    "    name: David Orme\n",
    "\n",
    "### virtual_ecosystem_module: \n",
    "    Animal, Plant, Abiotic, Soil, None, etc.\n",
    "\n",
    "### status: \n",
    "    final or wip\n",
    "    \n",
    "### input_files:\n",
    "#### name: \n",
    "    Input file name\n",
    "#### path: \n",
    "    Full file path on shared drive\n",
    "#### description: |\n",
    "      Source (short citation) and a brief explanation of what this input file\n",
    "      contains and its use case in this script\n",
    "\n",
    "### output_files:\n",
    "#### name: \n",
    "    Output file name\n",
    "#### path: \n",
    "    Full file path on shared drive\n",
    "#### description: |\n",
    "      What the output file contains and its significance, are they used in any other\n",
    "      scripts?\n",
    "\n",
    "### package_dependencies:\n",
    "    - vegan\n",
    "    - MASS\n",
    "\n",
    "### usage_notes:\n",
    "    Any known issues or bugs? Future plans for script/extensions or improvements\n",
    "      planned that should be noted?\n",
    "---"
   ]
  },
  {
   "cell_type": "markdown",
   "id": "6af51339-9285-4f45-9775-1898341579f4",
   "metadata": {},
   "source": [
    "# An R Markdown template\n",
    "\n",
    "First we load the packages at the top of the notebook"
   ]
  },
  {
   "cell_type": "code",
   "execution_count": 5,
   "id": "7707b5f1-6c33-45ae-aa74-4bd9d7964c41",
   "metadata": {},
   "outputs": [],
   "source": [
    "library(tools)"
   ]
  },
  {
   "cell_type": "markdown",
   "id": "dd2b3369-862a-4efe-a3e7-e1b450265a08",
   "metadata": {},
   "source": [
    "We can define local functions and these should be documented using the\n",
    "[ROxygen2 format](https://roxygen2.r-lib.org/articles/rd.html)."
   ]
  },
  {
   "cell_type": "code",
   "execution_count": 6,
   "id": "1be7c4bb-fc9d-4709-ad2e-7c59d2592f0e",
   "metadata": {},
   "outputs": [],
   "source": [
    "my_function <- function(value = 10) {\n",
    "  #' A function to return a value\n",
    "  #'\n",
    "  #' This function simply prints out the value passed to it and then returns the value.\n",
    "  #' It is just a simple example to give a template for the function description syntax.\n",
    "  #'\n",
    "  #' @param value A value to be used in the function\n",
    "  #'\n",
    "  #' @return Returns the original valu\n",
    "\n",
    "  # Print the value\n",
    "  print(value)\n",
    "\n",
    "  # Return the value\n",
    "  return(value)\n",
    "}"
   ]
  },
  {
   "cell_type": "markdown",
   "id": "65735eb4-606d-4a2a-a3ed-af9941d50811",
   "metadata": {},
   "source": [
    "Now we can use the function."
   ]
  },
  {
   "cell_type": "code",
   "execution_count": 7,
   "id": "c048c5af-e267-421f-8c7e-5569f3b50dfa",
   "metadata": {},
   "outputs": [
    {
     "name": "stdout",
     "output_type": "stream",
     "text": [
      "[1] 10\n"
     ]
    }
   ],
   "source": [
    "x <- my_function()"
   ]
  }
 ],
 "metadata": {
  "kernelspec": {
   "display_name": "R",
   "language": "R",
   "name": "ir"
  },
  "language_info": {
   "codemirror_mode": "r",
   "file_extension": ".r",
   "mimetype": "text/x-r-source",
   "name": "R",
   "pygments_lexer": "r",
   "version": "4.3.0"
  }
 },
 "nbformat": 4,
 "nbformat_minor": 5
}
